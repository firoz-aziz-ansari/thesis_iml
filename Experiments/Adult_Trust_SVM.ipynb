{
 "cells": [
  {
   "cell_type": "code",
   "execution_count": 1,
   "metadata": {},
   "outputs": [],
   "source": [
    "import dash\n",
    "import dash_core_components as dcc\n",
    "import dash_html_components as html\n",
    "from dash.dependencies import Input, Output, State\n",
    "\n",
    "import pandas as pd\n",
    "import math\n",
    "import numpy as np\n",
    "import plotly.graph_objs as go\n",
    "\n",
    "from scipy.spatial.distance import cityblock\n",
    "from scipy.spatial.distance import euclidean\n",
    "from scipy.spatial.distance import chebyshev\n",
    "import itertools\n",
    "\n",
    "import xgboost\n",
    "\n",
    "import shap\n",
    "\n",
    "from sklearn.model_selection import train_test_split\n",
    "from sklearn.preprocessing import LabelEncoder\n",
    "from sklearn.preprocessing import StandardScaler\n",
    "from sklearn.manifold import Isomap\n",
    "from sklearn.neighbors import NearestNeighbors\n",
    "from sklearn.ensemble import RandomForestClassifier\n",
    "from sklearn.metrics import roc_auc_score\n",
    "from sklearn.svm import SVC\n",
    "\n",
    "from collections import defaultdict\n",
    "from collections import Counter\n",
    "\n",
    "import pickle"
   ]
  },
  {
   "cell_type": "code",
   "execution_count": 2,
   "metadata": {},
   "outputs": [],
   "source": [
    "import pandas as pd\n",
    "import numpy as np\n",
    "import itertools\n",
    "from numba import njit, jit\n",
    "\n",
    "\"\"\"\n",
    "------------------------------------------\n",
    "General SHAP computation helper functions.\n",
    "------------------------------------------\n",
    "\"\"\"\n",
    "\n",
    "@njit\n",
    "def find_index(array, item):\n",
    "    \"\"\"\n",
    "    Accelerated index finder.\n",
    "    \"\"\"\n",
    "    for idx, val in np.ndenumerate(array):\n",
    "        if val == item:\n",
    "            return idx[0]\n",
    "\n",
    "def computeb1b2(x, w, o, i, pre_idx, order=-1, prng=None):\n",
    "    \"\"\"\n",
    "    Compute b1 and b2 for order sample o, instance sample w, and feature index i.\n",
    "    \n",
    "    Parameters\n",
    "    ----------\n",
    "    w : numpy array\n",
    "        array of size n with feature values of instance (w)\n",
    "    o : numpy array \n",
    "        array of size n with order of features\n",
    "    i : int\n",
    "        feature index\n",
    "    pre_idx : numpy array\n",
    "        arrangement of feature indices\n",
    "    \"\"\"\n",
    "    pos_i = find_index(o, i) # pos_i = np.where(o == i)[0][0]\n",
    "    idx = pre_idx[pos_i + 1:] # positions succeeding i \n",
    "    o_idx = o[idx] # features succeeding i\n",
    "    b1 = x.copy()\n",
    "    b1[o_idx] = w[o_idx] # fill features succeeding i with w\n",
    "    b2 = b1.copy()\n",
    "    b2[i] = w[i] # change x_i to w_i    \n",
    "    return b1, b2\n",
    "\n",
    "\"\"\"\n",
    "-----------------------------------\n",
    "Exact computation helper functions.\n",
    "-----------------------------------\n",
    "\"\"\"\n",
    "\n",
    "def retrieve_instances(mc, X):\n",
    "    \"\"\"\n",
    "    Retrieve all \n",
    "    \"\"\"\n",
    "    if mc == 'uniform-cat':\n",
    "        z = [X[c].unique() for c in X.columns]\n",
    "        instances = list(itertools.product(*z))\n",
    "    elif mc == 'training':\n",
    "        instances = X.as_matrix()\n",
    "    return instances\n",
    "\n",
    "def retrieve_permutations(n):\n",
    "    permutations = list(itertools.permutations(range(n)))\n",
    "    return permutations\n",
    "\n",
    "\"\"\"\n",
    "-----------------------------------\n",
    "Adaptive Sampling helper functions.\n",
    "-----------------------------------\n",
    "\"\"\"\n",
    "def update(existingAggregate, newValue):\n",
    "    \"\"\"\n",
    "    Update the count, mean, and mean square.\n",
    "    \n",
    "    Welford's online algorithm for calculating variance.\n",
    "    \n",
    "    existingAggretate : tuple\n",
    "        (count, mean, M2)\n",
    "    newValue : float\n",
    "        f(b1) - f(b2) for newest sample\n",
    "    \"\"\"\n",
    "    (count, mean, M2) = existingAggregate\n",
    "    count += 1 \n",
    "    delta = newValue - mean\n",
    "    mean += delta / count\n",
    "    delta2 = newValue - mean\n",
    "    M2 += delta * delta2\n",
    "    sampleVariance = M2/(count - 1)\n",
    "    return count, mean, M2, sampleVariance\n",
    "\n",
    "\"\"\"\n",
    "-------------\n",
    "SHAP classes.\n",
    "-------------\n",
    "\"\"\"\n",
    "\n",
    "class Generator:\n",
    "    \"\"\"\n",
    "    Generator for instaces (w)\n",
    "    \"\"\"\n",
    "    def __init__(self, X, mc):\n",
    "        \"\"\"\n",
    "        Paramaters\n",
    "        ----------\n",
    "        X : pandas DataFrame\n",
    "            Training data for sampling instances (w)\n",
    "        mc : string\n",
    "            - 'training' : sample instances (w) from training data\n",
    "        \"\"\"\n",
    "        self.mc = mc\n",
    "        self.feature_generators = {}\n",
    "        self.columns = X.columns.tolist()\n",
    "        if mc == 'training':\n",
    "            self.X = X\n",
    "        else: \n",
    "            raise ValueError(\"'%s' is an invalid Monte Carlo sampling strategy.\" % self.mc)\n",
    "        return\n",
    "\n",
    "    def sample(self, n, seed = 1, sample_type = 'dict', replace = True):\n",
    "        \"\"\"\n",
    "        Sample n ranodm instances (w).\n",
    "        Parameters\n",
    "        ----------\n",
    "        n : int\n",
    "            number of samples\n",
    "        seed : int\n",
    "            pseudorandom seed\n",
    "        replacement : Boolean\n",
    "            sample with replacement (True) or without replacement (False)\n",
    "        Returns\n",
    "        -------\n",
    "        samples : numpy array\n",
    "            two dimensional numpy array of feature * instances\n",
    "        \"\"\"\n",
    "        if self.mc == 'training':\n",
    "            samples = self.X.sample(n = n, random_state = seed, replace = replace)\n",
    "        return samples\n",
    "\n",
    "class Values:\n",
    "    \"\"\"\n",
    "    Store SHAP values and samples.\n",
    "    \"\"\"\n",
    "    def __init__(self, shap_values, abs_shap_values, samples = None):\n",
    "        self.shap_values = shap_values\n",
    "        self.abs_shap_values = abs_shap_values\n",
    "        self.samples = samples\n",
    "        return\n",
    "\n",
    "class Explainer:\n",
    "    \"\"\"\n",
    "    Object that can be called to compute SHAP values. Stores training data, classifier and sampling parameter.\n",
    "    \"\"\"\n",
    "\n",
    "    def __init__(self, X, mc = 'training', f = None):\n",
    "        \"\"\"\n",
    "        Paramaters\n",
    "        ----------\n",
    "        X : pandas DataFrame\n",
    "            Training data for sampling instances (w)\n",
    "        mc : string\n",
    "            - 'training' : sample instances (w) from training data\n",
    "        \"\"\"\n",
    "        self.X = X\n",
    "        self.mc = mc\n",
    "        self.f = f\n",
    "        return\n",
    "\n",
    "    def standard(self, x, m, f = None, X = None, mc = None, seed = 1, verbose = False, return_samples=False):\n",
    "\n",
    "        \"\"\"\n",
    "        Naive Monte Carlo approximation of SHAP values.\n",
    "        \n",
    "        Parameters\n",
    "        ----------\n",
    "        x : numpy array\n",
    "            numpy array containing all feature values, features must be ordered according to dataframe\n",
    "        f : object\n",
    "            model should have function '.predict_proba()' that takes as input an instance and as \n",
    "            output a probability for the positive class\n",
    "        m : int\n",
    "            number of samples for each feature\n",
    "        X : pandas DataFrame\n",
    "            training dataset\n",
    "        mc : string\n",
    "            Monte Carlo sampling strategy that indicates how random instances are sampled.\n",
    "            The sampling strategy affects the computation of the conditional expectation.\n",
    "            'training' : random instances will be sampled from the training data\n",
    "        seed : int\n",
    "            seed used for generating random instances and choosing random orders\n",
    "        verbose : Boolean\n",
    "            controls verbosity\n",
    "        return_samples : Boolean\n",
    "            returning samples that were used to commpute SHAP values to allow for SHAP-ICE and SHAP-ICC plots.\n",
    "        \"\"\"\n",
    "\n",
    "        # Retrieve explainer variables\n",
    "        X, mc, f = self.X, self.mc, self.f\n",
    "        \n",
    "        # Initialize vars\n",
    "        features = np.arange(len(X.columns)).astype(int) # numpy array with feature indexes\n",
    "        n = len(features)\n",
    "        chi = Generator(X=X, mc=mc)\n",
    "        phi = {}\n",
    "        abs_phi = {}\n",
    "        pre_idx = np.arange(len(features)) \n",
    "\n",
    "        # Sample all permutations (o)\n",
    "        prng = np.random.RandomState(seed=seed)\n",
    "        permutations = [prng.permutation(range(n)) for i in range(m*n)]\n",
    "        \n",
    "        # Sample all instances (w)\n",
    "        samples = np.array(chi.sample(n=m*n, seed=seed, sample_type = 'array'))\n",
    "        \n",
    "        #TEMP\n",
    "        temp_results = {}\n",
    "        \n",
    "        # Compute all b1 and b2\n",
    "        b1_all = [0]*(m*n) # initialize list with all b1's\n",
    "        b2_all = [0]*(m*n) # initialize list with all b2's\n",
    "        for i, index_n in zip(features, range(n)): # for each feature\n",
    "            temp_feature_results = []\n",
    "            for w, o, index_m in zip(samples[index_n*m:(index_n+1)*m], permutations[index_n*m:(index_n+1)*m], range(m)):\n",
    "                # for each sample index_m, consisting of instance w and order o:\n",
    "                b1, b2 = computeb1b2(x, w, o, i, pre_idx)\n",
    "                all_index = index_n*m + index_m\n",
    "                b1_all[all_index] = b1\n",
    "                b2_all[all_index] = b2\n",
    "                # TEMP\n",
    "                temp_feature_results.append({'o' : tuple(o), 'w' : w, 'b1' : b1, 'b2' : b2, 'v' : w[i]})\n",
    "            temp_results[i] = pd.DataFrame(temp_feature_results)\n",
    "\n",
    "        # Make predictions for instances b1 and b2\n",
    "        predictions = np.array(f.predict_proba(b1_all + b2_all))[:, 1]\n",
    "        if verbose:\n",
    "            print(\"Average predictions b1/b2: %.5f\" %(np.mean(predictions)))\n",
    "\n",
    "        # Compute Shapley value based on marginal contributions\n",
    "        for i, j in zip(X.columns, features):\n",
    "            b1_i = predictions[(j*m):(j+1)*m]\n",
    "            b2_i = predictions[(n*m+j*m):(n*m+(j+1)*m)]\n",
    "            phi[i] = sum(b1_i-b2_i)/m\n",
    "            abs_phi[i] = sum([abs(diff) for diff in (b1_i-b2_i)])/m\n",
    "            \n",
    "            # TEMP\n",
    "            temp_results[j]['f(b1)'] = b1_i\n",
    "            temp_results[j]['f(b2)'] = b2_i\n",
    "            temp_results[j]['c'] = b1_i - b2_i\n",
    "        if return_samples:\n",
    "            return Values(phi, abs_phi, samples = temp_results)\n",
    "        else:\n",
    "            return Values(phi, abs_phi)"
   ]
  },
  {
   "cell_type": "code",
   "execution_count": 3,
   "metadata": {},
   "outputs": [],
   "source": [
    "def label_encode(df, cat_variables):\n",
    "    dataframe = df.copy()\n",
    "    label_dictionary = defaultdict(LabelEncoder)\n",
    "    dataframe[cat_variables] = dataframe[cat_variables].apply(lambda x: label_dictionary[x.name].fit_transform(x))\n",
    "    return dataframe, label_dictionary\n",
    "\n",
    "\n",
    "def label_decode(df, cat_variables, label_dictionary):\n",
    "    dataframe = df.copy()\n",
    "    dataframe[cat_variables] = dataframe[cat_variables].apply(lambda x: label_dictionary[x.name].inverse_transform(x))\n",
    "    return dataframe\n",
    "\n",
    "\n",
    "def label_encode_new(df, cat_variables, label_dictionary):\n",
    "    dataframe = df.copy()\n",
    "    dataframe[cat_variables] = dataframe[cat_variables].apply(lambda x: label_dictionary[x.name].transform(x))\n",
    "    return dataframe"
   ]
  },
  {
   "cell_type": "code",
   "execution_count": 4,
   "metadata": {},
   "outputs": [
    {
     "name": "stderr",
     "output_type": "stream",
     "text": [
      "C:\\Users\\20174999\\AppData\\Local\\Continuum\\anaconda3\\lib\\site-packages\\pandas\\core\\ops.py:1649: FutureWarning:\n",
      "\n",
      "elementwise comparison failed; returning scalar instead, but in the future will perform elementwise comparison\n",
      "\n"
     ]
    }
   ],
   "source": [
    "X, y = shap.datasets.adult(display=True)\n",
    "\n",
    "X['TF'] = y\n",
    "X = X[(X[X.columns] != ' ?').all(axis=1)]\n",
    "X.reset_index(drop=True, inplace=True)\n",
    "X.drop_duplicates(inplace=True)\n",
    "X, y = X.loc[:, X.columns != 'TF'], X['TF']\n",
    "y = np.array(y)\n",
    "\n",
    "num_features = ['Age', 'Education-Num', 'Capital Gain', 'Capital Loss', 'Hours per week']\n",
    "cat_features = ['Workclass', 'Marital Status', 'Occupation', 'Relationship', 'Race', 'Sex', 'Country']\n",
    "\n",
    "# convert float to int\n",
    "X['Education-Num'] = X['Education-Num'].astype(int)\n",
    "X['Age'] = X['Age'].astype(int)\n",
    "X['Hours per week'] = X['Hours per week'].astype(int)\n",
    "\n",
    "X_enc, encode_dict = label_encode(X, cat_features)\n",
    "y_enc = y\n",
    "\n",
    "X_train, X_test, y_train, y_test = train_test_split(X_enc, y_enc, train_size=6000, test_size=2000, random_state=7)\n",
    "X_train_a, X_train_b, y_train_a, y_train_b = train_test_split(X_train, y_train, train_size=4000, test_size=2000, random_state=7)\n",
    "X_train_display, X_test_display, y_train_display, y_test_display = train_test_split(X, y, train_size=2000, test_size=500,\n",
    "                                                                                    random_state=7)"
   ]
  },
  {
   "cell_type": "code",
   "execution_count": 5,
   "metadata": {},
   "outputs": [
    {
     "name": "stderr",
     "output_type": "stream",
     "text": [
      "C:\\Users\\20174999\\AppData\\Local\\Continuum\\anaconda3\\lib\\site-packages\\sklearn\\svm\\base.py:196: FutureWarning:\n",
      "\n",
      "The default value of gamma will change from 'auto' to 'scale' in version 0.22 to account better for unscaled features. Set gamma explicitly to 'auto' or 'scale' to avoid this warning.\n",
      "\n"
     ]
    },
    {
     "data": {
      "text/plain": [
       "SVC(C=1.0, cache_size=200, class_weight=None, coef0=0.0,\n",
       "  decision_function_shape='ovr', degree=3, gamma='auto_deprecated',\n",
       "  kernel='rbf', max_iter=-1, probability=True, random_state=None,\n",
       "  shrinking=True, tol=0.001, verbose=False)"
      ]
     },
     "execution_count": 5,
     "metadata": {},
     "output_type": "execute_result"
    }
   ],
   "source": [
    "model = SVC(probability=True)\n",
    "model.fit(X_train_a, y_train_a)"
   ]
  },
  {
   "cell_type": "code",
   "execution_count": 6,
   "metadata": {},
   "outputs": [
    {
     "name": "stdout",
     "output_type": "stream",
     "text": [
      "ROC AUC score: 0.9385367819063991\n"
     ]
    }
   ],
   "source": [
    "y_pred_train = model.predict_proba(X_train)[:,1]\n",
    "y_pred_tf_train = (y_pred_train >= 0.5)\n",
    "\n",
    "\n",
    "auc_score = roc_auc_score(y_train, y_pred_train)\n",
    "print(\"ROC AUC score:\", auc_score)"
   ]
  },
  {
   "cell_type": "code",
   "execution_count": 18,
   "metadata": {},
   "outputs": [
    {
     "name": "stderr",
     "output_type": "stream",
     "text": [
      "C:\\Users\\20174999\\AppData\\Local\\Continuum\\anaconda3\\lib\\site-packages\\sklearn\\svm\\base.py:196: FutureWarning:\n",
      "\n",
      "The default value of gamma will change from 'auto' to 'scale' in version 0.22 to account better for unscaled features. Set gamma explicitly to 'auto' or 'scale' to avoid this warning.\n",
      "\n"
     ]
    }
   ],
   "source": [
    "import openml\n",
    "\n",
    "dataset = openml.datasets.get_dataset(40701)\n",
    "\n",
    "X, y, categorical_indicator, attribute_names = dataset.get_data(\n",
    "    dataset_format='dataframe',\n",
    "    target=dataset.default_target_attribute\n",
    ")\n",
    "\n",
    "y.replace('0', False, inplace=True)\n",
    "y.replace('1', True, inplace=True)\n",
    "\n",
    "y = y.values\n",
    "\n",
    "X_train_testA, X_testB, y_train_testA, y_testB = train_test_split(X, y, train_size=4000,\n",
    "                                                                  test_size=1000, random_state=7)\n",
    "X_train, X_testA, y_train, y_testA = train_test_split(X_train_testA, y_train_testA, train_size=3000,\n",
    "                                                      test_size=1000, random_state=7)\n",
    "\n",
    "model = SVC(probability=True)\n",
    "model.fit(X_train, y_train)\n",
    "\n",
    "y_pred = model.predict_proba(X_testB)[:,1]\n",
    "#y_pred_tf = (y_pred >= 0.5)\n",
    "\n",
    "\n",
    "# auc_score = roc_auc_score(y_testB, y_pred)\n",
    "# print(\"ROC AUC score:\", auc_score)\n",
    "\n",
    "# from sklearn.metrics import accuracy_score\n",
    "\n",
    "# acc_score = accuracy_score(y_testB, y_pred)\n",
    "# print(\"Accuracy Score : \", acc_score)"
   ]
  },
  {
   "cell_type": "code",
   "execution_count": 21,
   "metadata": {},
   "outputs": [
    {
     "data": {
      "text/plain": [
       "0.14326827557262423"
      ]
     },
     "execution_count": 21,
     "metadata": {},
     "output_type": "execute_result"
    }
   ],
   "source": [
    "np.min(y_pred)"
   ]
  },
  {
   "cell_type": "code",
   "execution_count": 19,
   "metadata": {},
   "outputs": [
    {
     "data": {
      "text/html": [
       "[<matplotlib.lines.Line2D object at 0x0000020A056BB198>]"
      ],
      "text/plain": [
       "[<matplotlib.lines.Line2D at 0x20a056bb198>]"
      ]
     },
     "execution_count": 19,
     "metadata": {},
     "output_type": "execute_result"
    },
    {
     "data": {
      "image/png": "[encoded data removed]",
      "text/plain": [
       "<Figure size 432x288 with 1 Axes>"
      ]
     },
     "metadata": {
      "needs_background": "light"
     },
     "output_type": "display_data"
    }
   ],
   "source": [
    "from sklearn.metrics import roc_curve\n",
    "from sklearn.metrics import auc\n",
    "from matplotlib import pyplot as plt\n",
    "\n",
    "fpr, tpr, thresholds = roc_curve(y_testB, y_pred)\n",
    "roc_auc = auc(y_testB, y_pred)\n",
    "\n",
    "    # Plot ROC curve for model prediction\n",
    "plt.plot(fpr, tpr, label='ROC curve model prob (area = %0.3f)' % roc_auc)"
   ]
  },
  {
   "cell_type": "code",
   "execution_count": 8,
   "metadata": {},
   "outputs": [],
   "source": [
    "confusion_matrix = []\n",
    "\n",
    "for i in range(0, len(y_train)):\n",
    "    if y_train[i] == True and y_pred_tf_train[i] == True:\n",
    "        confusion_matrix.append(\"TP\")\n",
    "    elif y_train[i] == False and y_pred_tf_train[i] == False:\n",
    "        confusion_matrix.append(\"TN\")\n",
    "    elif y_train[i] == False and y_pred_tf_train[i] == True:\n",
    "        confusion_matrix.append(\"FP\")\n",
    "    else:\n",
    "        confusion_matrix.append(\"FN\")"
   ]
  },
  {
   "cell_type": "code",
   "execution_count": 9,
   "metadata": {},
   "outputs": [],
   "source": [
    "explainer = Explainer(X = X_train, f = model)"
   ]
  },
  {
   "cell_type": "code",
   "execution_count": 10,
   "metadata": {},
   "outputs": [],
   "source": [
    "shap_train = np.empty((0, len(X.columns)))\n",
    "for i in range(0, len(X_train.index)):\n",
    "    values = explainer.standard(x=np.asarray(X_train.iloc[i]), m=100, return_samples=True)\n",
    "    shap_train = np.append(shap_train, [list(values.shap_values.values())], axis=0)"
   ]
  },
  {
   "cell_type": "code",
   "execution_count": 11,
   "metadata": {},
   "outputs": [],
   "source": [
    "shap_test = np.empty((0, len(X.columns)))\n",
    "for i in range(0, len(X_test.index)):\n",
    "    values = explainer.standard(x=np.asarray(X_test.iloc[i]), m=100, return_samples=True)\n",
    "    shap_test = np.append(shap_test, [list(values.shap_values.values())], axis=0)"
   ]
  },
  {
   "cell_type": "code",
   "execution_count": 12,
   "metadata": {},
   "outputs": [
    {
     "data": {
      "text/plain": [
       "(10, 12)"
      ]
     },
     "execution_count": 12,
     "metadata": {},
     "output_type": "execute_result"
    }
   ],
   "source": [
    "shap_test[0:10].shape"
   ]
  },
  {
   "cell_type": "code",
   "execution_count": 13,
   "metadata": {},
   "outputs": [
    {
     "data": {
      "text/plain": [
       "NearestNeighbors(algorithm='auto', leaf_size=30, metric='euclidean',\n",
       "         metric_params=None, n_jobs=None, n_neighbors=20, p=2, radius=1.0)"
      ]
     },
     "execution_count": 13,
     "metadata": {},
     "output_type": "execute_result"
    }
   ],
   "source": [
    "neighbors = NearestNeighbors(n_neighbors=20, metric='euclidean')\n",
    "neighbors.fit(shap_train)"
   ]
  },
  {
   "cell_type": "code",
   "execution_count": 14,
   "metadata": {},
   "outputs": [],
   "source": [
    "train_neighbor_distance, train_neighbor_index = neighbors.kneighbors(shap_test, n_neighbors=20, return_distance=True)"
   ]
  },
  {
   "cell_type": "code",
   "execution_count": 15,
   "metadata": {},
   "outputs": [
    {
     "data": {
      "text/plain": [
       "(2000, 20)"
      ]
     },
     "execution_count": 15,
     "metadata": {},
     "output_type": "execute_result"
    }
   ],
   "source": [
    "train_neighbor_index.shape"
   ]
  },
  {
   "cell_type": "code",
   "execution_count": 37,
   "metadata": {},
   "outputs": [],
   "source": [
    "TS = []\n",
    "\n",
    "for j in range(0, len(train_neighbor_distance)):\n",
    "    total_dist = 0\n",
    "    dist = 0\n",
    "    for i in range(0, len(train_neighbor_index[j])):\n",
    "        test_index = train_neighbor_index[j][i]\n",
    "        test_distance = train_neighbor_distance[j][i]\n",
    "        if train_neighbor_distance[j][i] == 0.0:\n",
    "            test_distance = np.min(train_neighbor_distance[j][0:][np.nonzero(train_neighbor_distance[j][0:])])\n",
    "        if confusion_matrix[test_index] == 'TP':\n",
    "            #print(\"TP\")\n",
    "            total_dist = total_dist + (1/test_distance)\n",
    "            dist = dist + (1/test_distance)\n",
    "        elif confusion_matrix[test_index] == 'TN':\n",
    "            #print(\"TN\")\n",
    "            total_dist = total_dist + (1/test_distance)\n",
    "            dist = dist + (1/test_distance)\n",
    "        elif confusion_matrix[test_index] == 'FP':\n",
    "            #print(\"FP\")\n",
    "            total_dist = total_dist + (1/test_distance)\n",
    "        else:\n",
    "            #print(\"FN\")\n",
    "            total_dist = total_dist + (1/test_distance)\n",
    "    score = dist/total_dist\n",
    "    TS.append(score)"
   ]
  },
  {
   "cell_type": "code",
   "execution_count": 40,
   "metadata": {},
   "outputs": [
    {
     "data": {
      "text/plain": [
       "NearestNeighbors(algorithm='auto', leaf_size=30, metric='euclidean',\n",
       "         metric_params=None, n_jobs=None, n_neighbors=20, p=2, radius=1.0)"
      ]
     },
     "execution_count": 40,
     "metadata": {},
     "output_type": "execute_result"
    }
   ],
   "source": [
    "neighbors = NearestNeighbors(n_neighbors=20, metric='euclidean')\n",
    "neighbors.fit(X_train)"
   ]
  },
  {
   "cell_type": "code",
   "execution_count": 41,
   "metadata": {},
   "outputs": [],
   "source": [
    "train_neighbor_distance, train_neighbor_index = neighbors.kneighbors(X_test, n_neighbors=20, return_distance=True)"
   ]
  },
  {
   "cell_type": "code",
   "execution_count": 42,
   "metadata": {},
   "outputs": [],
   "source": [
    "TS_noshap = []\n",
    "for j in range(0, len(train_neighbor_distance)):\n",
    "    total_dist = 0\n",
    "    dist = 0\n",
    "    for i in range(0, len(train_neighbor_index[j])):\n",
    "        test_index = train_neighbor_index[j][i]\n",
    "        test_distance = train_neighbor_distance[j][i]\n",
    "        if train_neighbor_distance[j][i] == 0.0:\n",
    "            test_distance = np.min(train_neighbor_distance[j][0:][np.nonzero(train_neighbor_distance[j][0:])])\n",
    "        if confusion_matrix[test_index] == 'TP':\n",
    "            #print(\"TP\")\n",
    "            total_dist = total_dist + (1/test_distance)\n",
    "            dist = dist + (1/test_distance)\n",
    "        elif confusion_matrix[test_index] == 'TN':\n",
    "            #print(\"TN\")\n",
    "            total_dist = total_dist + (1/test_distance)\n",
    "            dist = dist + (1/test_distance)\n",
    "        elif confusion_matrix[test_index] == 'FP':\n",
    "            #print(\"FP\")\n",
    "            total_dist = total_dist + (1/test_distance)\n",
    "        else:\n",
    "            #print(\"FN\")\n",
    "            total_dist = total_dist + (1/test_distance)\n",
    "    score = dist/total_dist\n",
    "    TS_noshap.append(score)"
   ]
  },
  {
   "cell_type": "code",
   "execution_count": 18,
   "metadata": {},
   "outputs": [],
   "source": [
    "TS_3 = []\n",
    "\n",
    "for j in range(0, len(train_neighbor_distance)):\n",
    "    total_dist = 0\n",
    "    dist = 0\n",
    "    for i in range(0, len(train_neighbor_index[j])):\n",
    "        test_index = train_neighbor_index[j][i]\n",
    "        #print(train_neighbor_distance[j][i])\n",
    "        if confusion_matrix[test_index] == 'TP':\n",
    "            #print(\"TP\")\n",
    "            #total_dist = total_dist + (1/train_neighbor_distance[j][i]) if not math.isnan(train_neighbor_distance[j][i]) else total_dist + (1/np.min(train_neighbor_distance[j][0:]))\n",
    "            #dist = dist + (1/train_neighbor_distance[j][i]) if not math.isnan(train_neighbor_distance[j][i]) else dist + (1/np.min(train_neighbor_distance[j][0:]))\n",
    "            dist = dist + (-train_neighbor_distance[j][i])\n",
    "            #total_dist = total_dist + (train_neighbor_distance[j][i])\n",
    "        elif confusion_matrix[test_index] == 'TN':\n",
    "            #print(\"TN\")\n",
    "            #total_dist = total_dist + (1/train_neighbor_distance[j][i]) if not math.isnan(train_neighbor_distance[j][i]) else total_dist + (1/np.min(train_neighbor_distance[j][0:]))\n",
    "            #dist = dist + (1/train_neighbor_distance[j][i]) if not math.isnan(train_neighbor_distance[j][i]) else dist + (1/np.min(train_neighbor_distance[j][0:]))\n",
    "            dist = dist + (-train_neighbor_distance[j][i])\n",
    "            #total_dist = total_dist + (train_neighbor_distance[j][i])\n",
    "        #elif confusion_matrix[test_index] == 'FP':\n",
    "            #print(\"FP\")\n",
    "            #total_dist = total_dist + (1/train_neighbor_distance[j][i]) if not math.isnan(train_neighbor_distance[j][i]) else total_dist + (1/np.min(train_neighbor_distance[j][0:]))\n",
    "            #total_dist = total_dist + (train_neighbor_distance[j][i])\n",
    "        #else:\n",
    "            \n",
    "            #print(\"FN\")\n",
    "            #total_dist = total_dist + (1/train_neighbor_distance[j][i]) if not math.isnan(train_neighbor_distance[j][i]) else total_dist + (1/np.min(train_neighbor_distance[j][0:]))\n",
    "            #total_dist = total_dist + (train_neighbor_distance[j][i])\n",
    "    #score = dist/total_dist if not math.isnan(dist/total_dist) else 0.5\n",
    "    score = dist\n",
    "    TS_3.append(score)"
   ]
  },
  {
   "cell_type": "code",
   "execution_count": 19,
   "metadata": {},
   "outputs": [
    {
     "name": "stderr",
     "output_type": "stream",
     "text": [
      "C:\\Users\\20174999\\AppData\\Local\\Continuum\\anaconda3\\lib\\site-packages\\ipykernel_launcher.py:16: RuntimeWarning:\n",
      "\n",
      "divide by zero encountered in double_scalars\n",
      "\n",
      "C:\\Users\\20174999\\AppData\\Local\\Continuum\\anaconda3\\lib\\site-packages\\ipykernel_launcher.py:12: RuntimeWarning:\n",
      "\n",
      "divide by zero encountered in double_scalars\n",
      "\n"
     ]
    }
   ],
   "source": [
    "TS_4 = []\n",
    "\n",
    "for j in range(0, len(train_neighbor_distance)):\n",
    "    total_dist = 0\n",
    "    dist = 0\n",
    "    for i in range(0, len(train_neighbor_index[j])):\n",
    "        test_index = train_neighbor_index[j][i]\n",
    "        #print(train_neighbor_distance[j][i])\n",
    "        if confusion_matrix[test_index] == 'TP':\n",
    "            #print(\"TP\")\n",
    "            #total_dist = total_dist + (1/train_neighbor_distance[j][i]) if not math.isnan(train_neighbor_distance[j][i]) else total_dist + (1/np.min(train_neighbor_distance[j][0:]))\n",
    "            dist = dist + (1/train_neighbor_distance[j][i]) if not math.isnan(train_neighbor_distance[j][i]) else dist + (1/np.min(train_neighbor_distance[j][0:]))\n",
    "        elif confusion_matrix[test_index] == 'TN':\n",
    "            #print(\"TN\")\n",
    "            #total_dist = total_dist + (1/train_neighbor_distance[j][i]) if not math.isnan(train_neighbor_distance[j][i]) else total_dist + (1/np.min(train_neighbor_distance[j][0:]))\n",
    "            dist = dist + (1/train_neighbor_distance[j][i]) if not math.isnan(train_neighbor_distance[j][i]) else dist + (1/np.min(train_neighbor_distance[j][0:]))\n",
    "        #elif confusion_matrix[test_index] == 'FP':\n",
    "            #print(\"FP\")\n",
    "            #total_dist = total_dist + (1/train_neighbor_distance[j][i]) if not math.isnan(train_neighbor_distance[j][i]) else total_dist + (1/np.min(train_neighbor_distance[j][0:]))\n",
    "        #else:\n",
    "            #print(\"FN\")\n",
    "            #total_dist = total_dist + (1/train_neighbor_distance[j][i]) if not math.isnan(train_neighbor_distance[j][i]) else total_dist + (1/np.min(train_neighbor_distance[j][0:]))\n",
    "    #score = dist/total_dist if not math.isnan(dist/total_dist) else 0.5\n",
    "    TS_4.append(dist)"
   ]
  },
  {
   "cell_type": "code",
   "execution_count": 20,
   "metadata": {},
   "outputs": [
    {
     "data": {
      "text/plain": [
       "(2000,)"
      ]
     },
     "execution_count": 20,
     "metadata": {},
     "output_type": "execute_result"
    }
   ],
   "source": [
    "np.shape(TS)"
   ]
  },
  {
   "cell_type": "code",
   "execution_count": 21,
   "metadata": {},
   "outputs": [
    {
     "name": "stdout",
     "output_type": "stream",
     "text": [
      "False\n"
     ]
    }
   ],
   "source": [
    "b = True if True in np.isnan(np.array(TS)) else False\n",
    "print(b)"
   ]
  },
  {
   "cell_type": "code",
   "execution_count": 58,
   "metadata": {},
   "outputs": [],
   "source": [
    "import numpy as np\n",
    "from sklearn.model_selection import StratifiedShuffleSplit\n",
    "import matplotlib.pyplot as plt\n",
    "from sklearn.decomposition import PCA\n",
    "import matplotlib.cm as cm\n",
    "from sklearn.metrics import precision_recall_curve\n",
    "#import tensorflow as tf\n",
    "\n",
    "from sklearn.linear_model import LogisticRegression\n",
    "from sklearn.svm import LinearSVC\n",
    "from sklearn.ensemble import RandomForestClassifier\n",
    "\n",
    "\n",
    "def run_logistic(X_train, y_train, X_test, y_test, get_training=False):\n",
    "  model = LogisticRegression()\n",
    "  model.fit(X_train, y_train)\n",
    "  y_pred = model.predict(X_test)\n",
    "  all_confidence = model.predict_proba(X_test)\n",
    "  confidences = all_confidence[range(len(y_pred)), y_pred]\n",
    "  if not get_training:\n",
    "    return y_pred, confidences\n",
    "  y_pred_training = model.predict(X_train)\n",
    "  all_confidence_training = model.predict_proba(X_train)\n",
    "  confidence_training = all_confidence_training[range(len(y_pred_training)),\n",
    "                                                y_pred_training]\n",
    "  return y_pred, confidences, y_pred_training, confidence_training\n",
    "\n",
    "\n",
    "def run_linear_svc(X_train, y_train, X_test, y_test, get_training=False):\n",
    "  model = LinearSVC()\n",
    "  model.fit(X_train, y_train)\n",
    "  y_pred = model.predict(X_test)\n",
    "  all_confidence = model.decision_function(X_test)\n",
    "  confidences = all_confidence[range(len(y_pred)), y_pred]\n",
    "  if not get_training:\n",
    "    return y_pred, confidences\n",
    "  y_pred_training = model.predict(X_train)\n",
    "  all_confidence_training = model.decision_function(X_train)\n",
    "  confidence_training = all_confidence_training[range(len(y_pred_training)),\n",
    "                                                y_pred_training]\n",
    "  return y_pred, confidences, y_pred_training, confidence_training\n",
    "\n",
    "\n",
    "def run_random_forest(X_train, y_train, X_test, y_test, get_training=False):\n",
    "  model = RandomForestClassifier()\n",
    "  model.fit(X_train, y_train)\n",
    "  y_pred = model.predict(X_test)\n",
    "  all_confidence = model.predict_proba(X_test)\n",
    "  confidences = all_confidence[range(len(y_pred)), y_pred]\n",
    "  if not get_training:\n",
    "    return y_pred, confidences\n",
    "  y_pred_training = model.predict(X_train)\n",
    "  all_confidence_training = model.predict_proba(X_train)\n",
    "  confidence_training = all_confidence_training[range(len(y_pred_training)),\n",
    "                                                y_pred_training]\n",
    "  return y_pred, confidences, y_pred_training, confidence_training\n",
    "\n",
    "\n",
    "# def run_simple_NN(X,\n",
    "#                   y,\n",
    "#                   X_test,\n",
    "#                   y_test,\n",
    "#                   num_iter=10000,\n",
    "#                   hidden_units=100,\n",
    "#                   learning_rate=0.05,\n",
    "#                   batch_size=100,\n",
    "#                   display_steps=1000,\n",
    "#                   n_layers=1,\n",
    "#                   get_training=False):\n",
    "#   \"\"\"Run a NN with a single layer on some data.\n",
    "#   Returns the predicted values as well as the confidences.\n",
    "#   \"\"\"\n",
    "#   n_labels = np.max(y) + 1\n",
    "#   n_features = X.shape[1]\n",
    "\n",
    "#   x = tf.placeholder(tf.float32, [None, n_features])\n",
    "#   y_ = tf.placeholder(tf.float32, [None, n_labels])\n",
    "\n",
    "#   def simple_NN(input_placeholder, n_layers):\n",
    "\n",
    "#     W_in = weight_variable([n_features, hidden_units])\n",
    "#     b_in = bias_variable([hidden_units])\n",
    "#     W_mid = [\n",
    "#         weight_variable([hidden_units, hidden_units])\n",
    "#         for i in range(n_layers - 1)\n",
    "#     ]\n",
    "#     b_mid = [bias_variable([hidden_units]) for i in range(n_layers - 1)]\n",
    "#     W_out = weight_variable([hidden_units, n_labels])\n",
    "#     b_out = bias_variable([n_labels])\n",
    "\n",
    "#     layers = [tf.nn.relu(tf.matmul(input_placeholder, W_in) + b_in)]\n",
    "#     for i in range(n_layers - 1):\n",
    "#       layer = tf.nn.relu(tf.matmul(layers[-1], W_mid[i]) + b_mid[i])\n",
    "#       layers.append(layer)\n",
    "\n",
    "#     logits = tf.matmul(layers[-1], W_out) + b_out\n",
    "#     return logits\n",
    "\n",
    "#   NN_logits = simple_NN(x, n_layers)\n",
    "\n",
    "#   cross_entropy = tf.reduce_mean(\n",
    "#       tf.nn.softmax_cross_entropy_with_logits(labels=y_, logits=NN_logits))\n",
    "#   train_step = tf.train.AdamOptimizer(learning_rate).minimize(cross_entropy)\n",
    "#   correct_prediction = tf.equal(tf.argmax(NN_logits, 1), tf.argmax(y_, 1))\n",
    "#   accuracy = tf.reduce_mean(tf.cast(correct_prediction, tf.float32))\n",
    "\n",
    "#   def one_hot(ns):\n",
    "#     return np.eye(n_labels)[ns]\n",
    "\n",
    "#   y_onehot = one_hot(y)\n",
    "#   y_test_onehot = one_hot(y_test)\n",
    "\n",
    "#   with tf.Session() as sess:\n",
    "#     sess.run(tf.global_variables_initializer())\n",
    "#     for i in range(num_iter):\n",
    "#       ns = np.random.randint(0, len(X), size=batch_size)\n",
    "#       if (i + 1) % display_steps == 0:\n",
    "#         train_accuracy = accuracy.eval(feed_dict={x: X, y_: y_onehot})\n",
    "#         test_accuracy = accuracy.eval(feed_dict={x: X_test, y_: y_test_onehot})\n",
    "\n",
    "#         print(\"step %d, training accuracy %g, test accuracy %g\" %\n",
    "#               (i + 1, train_accuracy, test_accuracy))\n",
    "#       train_step.run(feed_dict={x: X[ns, :], y_: y_onehot[ns, :]})\n",
    "\n",
    "#     testing_logits = NN_logits.eval(feed_dict={x: X_test})\n",
    "#     testing_prediction = tf.argmax(NN_logits, 1).eval(feed_dict={x: X_test})\n",
    "#     NN_softmax = tf.nn.softmax(NN_logits).eval(feed_dict={x: X_test})\n",
    "#     testing_confidence_raw = tf.reduce_max(NN_softmax,\n",
    "#                                            1).eval(feed_dict={x: X_test})\n",
    "\n",
    "#     if not get_training:\n",
    "#       return testing_prediction, testing_confidence_raw\n",
    "#     training_prediction = tf.argmax(NN_logits, 1).eval(feed_dict={x: X})\n",
    "#     NN_softmax = tf.nn.softmax(NN_logits).eval(feed_dict={x: X})\n",
    "#     training_confidence_raw = tf.reduce_max(NN_softmax,\n",
    "#                                             1).eval(feed_dict={x: X})\n",
    "#     return testing_prediction, testing_confidence_raw, training_prediction, training_confidence_raw\n",
    "\n",
    "\n",
    "def plot_precision_curve(\n",
    "    extra_plot_title,\n",
    "    percentile_levels,\n",
    "    signal_names,\n",
    "    final_TPs,\n",
    "    final_stderrs,\n",
    "    final_misclassification,\n",
    "    predict_when_correct,\n",
    "    model_name=\"Model\",\n",
    "    colors=[\"blue\", \"darkorange\", \"brown\", \"red\", \"purple\"],\n",
    "    legend_loc=None,\n",
    "    figure_size=(8,6),\n",
    "    ylim=None):\n",
    "  if figure_size is not None:\n",
    "    plt.figure(figsize=figure_size)\n",
    "  title = \"Precision Curve\" if extra_plot_title == \"\" else extra_plot_title\n",
    "  plt.title(title, fontsize=20)\n",
    "  colors = colors + list(cm.rainbow(np.linspace(0, 1, len(final_TPs))))\n",
    "\n",
    "  plt.xlabel(\"Percentile level\", fontsize=18)\n",
    "  if predict_when_correct:\n",
    "    plt.ylabel(\"Accuracy\", fontsize=18)\n",
    "  else:\n",
    "    plt.ylabel(\"Misclassification\", fontsize=18)\n",
    "  for i, signal_name in enumerate(signal_names):\n",
    "    ls = \"--\" if (\"Model\" in signal_name) else \"-\"\n",
    "    plt.plot(\n",
    "        percentile_levels, final_TPs[i], ls, c=colors[i], label=signal_name)\n",
    "\n",
    "    plt.fill_between(\n",
    "        percentile_levels,\n",
    "        final_TPs[i] - final_stderrs[i],\n",
    "        final_TPs[i] + final_stderrs[i],\n",
    "        color=colors[i],\n",
    "        alpha=0.1)\n",
    "\n",
    "  if legend_loc is None:\n",
    "    if 0. in percentile_levels:\n",
    "      plt.legend(loc=\"lower right\", fontsize=14)\n",
    "    else:\n",
    "      plt.legend(loc=\"upper left\", fontsize=14)\n",
    "  else:\n",
    "    if legend_loc == \"outside\":\n",
    "      plt.legend(bbox_to_anchor=(1.04, 1), loc=\"upper left\", fontsize=14)\n",
    "    else:\n",
    "      plt.legend(loc=legend_loc, fontsize=14)\n",
    "  if ylim is not None:\n",
    "    plt.ylim(*ylim)\n",
    "#   model_acc = 100 * (1 - final_misclassification)\n",
    "#   plt.axvline(x=model_acc, linestyle=\"dotted\", color=\"black\")\n",
    "  plt.show()"
   ]
  },
  {
   "cell_type": "code",
   "execution_count": 59,
   "metadata": {},
   "outputs": [],
   "source": [
    "def run_precision_recall_experiment_general(X_train,\n",
    "                                            y_train,\n",
    "                                            X_test,\n",
    "                                            y_test,\n",
    "                                            percentile_levels,\n",
    "                                            testing_prediction,\n",
    "                                            testing_confidence_raw,\n",
    "                                            test_size=0.5,\n",
    "                                            extra_plot_title=\"\",\n",
    "                                            signals=[],\n",
    "                                            signal_names=[],\n",
    "                                            predict_when_correct=False,\n",
    "                                            skip_print=False):\n",
    "\n",
    "    def get_stderr(L):\n",
    "        return np.std(L) / np.sqrt(len(L))\n",
    "    \n",
    "    testing_confidence_raw = np.array(testing_confidence_raw)\n",
    "    \n",
    "    temp_signals = signals\n",
    "    signals = []\n",
    "    \n",
    "    for signal in temp_signals:\n",
    "        signals.append(np.array(signal))\n",
    "    \n",
    "\n",
    "    all_signal_names = [\"Model Confidence\"] + signal_names\n",
    "    all_TPs = [[[] for p in percentile_levels] for signal in all_signal_names]\n",
    "    misclassifications = []\n",
    "    sign = 1 if predict_when_correct else -1\n",
    "    sss = StratifiedShuffleSplit(n_splits=1, test_size=0.5, random_state=0)\n",
    "    for train_idx, test_idx in sss.split(X_train, y_train):\n",
    "#         testing_prediction, testing_confidence_raw = trainer(\n",
    "#             X_train, y_train, X_test, y_test)\n",
    "        target_points = np.where(\n",
    "            testing_prediction == y_test)[0] if predict_when_correct else np.where(\n",
    "                testing_prediction != y_test)[0]\n",
    "    \n",
    "\n",
    "        final_signals = [testing_confidence_raw]\n",
    "        for signal in signals:\n",
    "            final_signals.append(signal)\n",
    "        \n",
    "        for p, percentile_level in enumerate(percentile_levels):\n",
    "            all_high_confidence_points = [\n",
    "              np.where(sign * signal >= np.percentile(sign * signal, percentile_level))[0]\n",
    "                for signal in final_signals\n",
    "            ]\n",
    "            if 0 in map(len, all_high_confidence_points):\n",
    "                continue\n",
    "            TP = [\n",
    "                len(np.intersect1d(high_confidence_points, target_points)) /\n",
    "                (1. * len(high_confidence_points))\n",
    "                for high_confidence_points in all_high_confidence_points\n",
    "            ]\n",
    "            for i in range(len(all_signal_names)):\n",
    "                all_TPs[i][p].append(TP[i])\n",
    "        misclassifications.append(len(target_points) / (1. * len(X_test)))\n",
    "\n",
    "    final_TPs = [[] for signal in all_signal_names]\n",
    "    final_stderrs = [[] for signal in all_signal_names]\n",
    "    for p, percentile_level in enumerate(percentile_levels):\n",
    "        for i in range(len(all_signal_names)):\n",
    "            final_TPs[i].append(np.mean(all_TPs[i][p]))\n",
    "            final_stderrs[i].append(get_stderr(all_TPs[i][p]))\n",
    "\n",
    "        if not skip_print:\n",
    "            print(\"Precision at percentile\", percentile_level)\n",
    "            ss = \"\"\n",
    "            for i, signal_name in enumerate(all_signal_names):\n",
    "                ss += (signal_name + (\": %.4f  \" % final_TPs[i][p]))\n",
    "            print(ss)\n",
    "            print()\n",
    "\n",
    "    final_misclassification = np.mean(misclassifications)\n",
    "\n",
    "    if not skip_print:\n",
    "        print(\"Misclassification rate mean/std\", np.mean(misclassifications), get_stderr(misclassifications))\n",
    "\n",
    "    for i in range(len(all_signal_names)):\n",
    "        final_TPs[i] = np.array(final_TPs[i])\n",
    "        final_stderrs[i] = np.array(final_stderrs[i])  \n",
    "    \n",
    "    plot_precision_curve(extra_plot_title, percentile_levels, all_signal_names, final_TPs, final_stderrs, final_misclassification,\n",
    "                        legend_loc=\"outside\", predict_when_correct=predict_when_correct)"
   ]
  },
  {
   "cell_type": "code",
   "execution_count": 60,
   "metadata": {},
   "outputs": [
    {
     "name": "stdout",
     "output_type": "stream",
     "text": [
      "ROC AUC score: 0.7988345439870863\n",
      "Accuracy Score :  0.778\n"
     ]
    }
   ],
   "source": [
    "y_pred = model.predict_proba(X_test)[:,1]\n",
    "y_pred_tf = (y_pred >= 0.5)\n",
    "\n",
    "\n",
    "auc_score = roc_auc_score(y_test, y_pred)\n",
    "print(\"ROC AUC score:\", auc_score)\n",
    "\n",
    "from sklearn.metrics import accuracy_score\n",
    "\n",
    "acc_score = accuracy_score(y_test, y_pred_tf)\n",
    "print(\"Accuracy Score : \", acc_score)"
   ]
  },
  {
   "cell_type": "code",
   "execution_count": 61,
   "metadata": {},
   "outputs": [],
   "source": [
    "all_confidence = model.predict_proba(X_test)\n",
    "\n",
    "confidence = []\n",
    "for i in range(len(y_pred)):\n",
    "    if all_confidence[i][0] > all_confidence[i][1]:\n",
    "        confidence.append(all_confidence[i][0])\n",
    "    else:\n",
    "        confidence.append(all_confidence[i][1])\n",
    "\n",
    "y_pred = np.array(confidence)"
   ]
  },
  {
   "cell_type": "code",
   "execution_count": 62,
   "metadata": {},
   "outputs": [],
   "source": [
    "percentile_levels = percentile_levels = [0 + 0.5 * i for i in range(195)]"
   ]
  },
  {
   "cell_type": "code",
   "execution_count": 63,
   "metadata": {
    "scrolled": false
   },
   "outputs": [
    {
     "data": {
      "image/png": "[encoded data removed]",
      "text/plain": [
       "<Figure size 576x432 with 1 Axes>"
      ]
     },
     "metadata": {
      "needs_background": "light"
     },
     "output_type": "display_data"
    }
   ],
   "source": [
    "run_precision_recall_experiment_general(X_train = X_train,\n",
    "                                        y_train = y_train,\n",
    "                                        X_test = X_test,\n",
    "                                        y_test = y_test,\n",
    "                                        percentile_levels = percentile_levels,\n",
    "                                        testing_prediction = y_pred_tf,\n",
    "                                        testing_confidence_raw = y_pred,\n",
    "                                        extra_plot_title=\"Adult | SVM | Predict Correct\",\n",
    "                                        signals = [TS],\n",
    "                                        signal_names = [\"Trust Score\"],\n",
    "                                        predict_when_correct=True,\n",
    "                                        skip_print=True\n",
    "                                       )"
   ]
  },
  {
   "cell_type": "code",
   "execution_count": 64,
   "metadata": {},
   "outputs": [
    {
     "data": {
      "image/png": "[encoded data removed]",
      "text/plain": [
       "<Figure size 576x432 with 1 Axes>"
      ]
     },
     "metadata": {
      "needs_background": "light"
     },
     "output_type": "display_data"
    }
   ],
   "source": [
    "run_precision_recall_experiment_general(X_train = X_train,\n",
    "                                        y_train = y_train,\n",
    "                                        X_test = X_test,\n",
    "                                        y_test = y_test,\n",
    "                                        percentile_levels = percentile_levels,\n",
    "                                        testing_prediction = y_pred_tf,\n",
    "                                        testing_confidence_raw = y_pred,\n",
    "                                        extra_plot_title=\"Adult | SVM | Predict Incorrect\",\n",
    "                                        signals = [TS],\n",
    "                                        signal_names = [\"Trust Score\"],\n",
    "                                        predict_when_correct=False,\n",
    "                                        skip_print=True\n",
    "                                       )"
   ]
  }
 ],
 "metadata": {
  "kernelspec": {
   "display_name": "Rabobank",
   "language": "python",
   "name": "rabobank"
  },
  "language_info": {
   "codemirror_mode": {
    "name": "ipython",
    "version": 3
   },
   "file_extension": ".py",
   "mimetype": "text/x-python",
   "name": "python",
   "nbconvert_exporter": "python",
   "pygments_lexer": "ipython3",
   "version": "3.7.3"
  }
 },
 "nbformat": 4,
 "nbformat_minor": 2
}
